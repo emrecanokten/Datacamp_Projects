{
 "cells": [
  {
   "cell_type": "markdown",
   "metadata": {
    "dc": {
     "key": "4"
    },
    "deletable": false,
    "editable": false,
    "run_control": {
     "frozen": true
    },
    "tags": [
     "context"
    ]
   },
   "source": [
    "## 1. Welcome!\n",
    "<p><img src=\"https://assets.datacamp.com/production/project_1170/img/office_cast.jpeg\" alt=\"Markdown\">.</p>\n",
    "<p><strong>The Office!</strong> What started as a British mockumentary series about office culture in 2001 has since spawned ten other variants across the world, including an Israeli version (2010-13), a Hindi version (2019-), and even a French Canadian variant (2006-2007). Of all these iterations (including the original), the American series has been the longest-running, spanning 201 episodes over nine seasons.</p>\n",
    "<p>In this notebook, we will take a look at a dataset of The Office episodes, and try to understand how the popularity and quality of the series varied over time. To do so, we will use the following dataset: <code>datasets/office_episodes.csv</code>, which was downloaded from Kaggle <a href=\"https://www.kaggle.com/nehaprabhavalkar/the-office-dataset\">here</a>.</p>\n",
    "<p>This dataset contains information on a variety of characteristics of each episode. In detail, these are:\n",
    "<br></p>\n",
    "<div style=\"background-color: #efebe4; color: #05192d; text-align:left; vertical-align: middle; padding: 15px 25px 15px 25px; line-height: 1.6;\">\n",
    "    <div style=\"font-size:20px\"><b>datasets/office_episodes.csv</b></div>\n",
    "<ul>\n",
    "    <li><b>episode_number:</b> Canonical episode number.</li>\n",
    "    <li><b>season:</b> Season in which the episode appeared.</li>\n",
    "    <li><b>episode_title:</b> Title of the episode.</li>\n",
    "    <li><b>description:</b> Description of the episode.</li>\n",
    "    <li><b>ratings:</b> Average IMDB rating.</li>\n",
    "    <li><b>votes:</b> Number of votes.</li>\n",
    "    <li><b>viewership_mil:</b> Number of US viewers in millions.</li>\n",
    "    <li><b>duration:</b> Duration in number of minutes.</li>\n",
    "    <li><b>release_date:</b> Airdate.</li>\n",
    "    <li><b>guest_stars:</b> Guest stars in the episode (if any).</li>\n",
    "    <li><b>director:</b> Director of the episode.</li>\n",
    "    <li><b>writers:</b> Writers of the episode.</li>\n",
    "    <li><b>has_guests:</b> True/False column for whether the episode contained guest stars.</li>\n",
    "    <li><b>scaled_ratings:</b> The ratings scaled from 0 (worst-reviewed) to 1 (best-reviewed).</li>\n",
    "</ul>\n",
    "    </div>"
   ]
  },
  {
   "cell_type": "code",
   "execution_count": 1,
   "metadata": {
    "dc": {
     "key": "4"
    },
    "tags": [
     "sample_code"
    ]
   },
   "outputs": [],
   "source": [
    "# Use this cell to begin your analysis, and add as many as you would like!\n",
    "\n",
    "# Import necessary libraries\n",
    "\n",
    "import pandas as pd\n",
    "import numpy as np\n",
    "\n",
    "import matplotlib.pyplot as plt\n",
    "\n",
    "\n",
    "# Set figure size parameters to see a bigger size figure\n",
    "\n",
    "plt.rcParams['figure.figsize'] = [11, 7]"
   ]
  },
  {
   "cell_type": "code",
   "execution_count": 2,
   "metadata": {
    "dc": {
     "key": "4"
    }
   },
   "outputs": [
    {
     "data": {
      "text/html": [
       "<div>\n",
       "<style scoped>\n",
       "    .dataframe tbody tr th:only-of-type {\n",
       "        vertical-align: middle;\n",
       "    }\n",
       "\n",
       "    .dataframe tbody tr th {\n",
       "        vertical-align: top;\n",
       "    }\n",
       "\n",
       "    .dataframe thead th {\n",
       "        text-align: right;\n",
       "    }\n",
       "</style>\n",
       "<table border=\"1\" class=\"dataframe\">\n",
       "  <thead>\n",
       "    <tr style=\"text-align: right;\">\n",
       "      <th></th>\n",
       "      <th>episode_number</th>\n",
       "      <th>season</th>\n",
       "      <th>episode_title</th>\n",
       "      <th>description</th>\n",
       "      <th>ratings</th>\n",
       "      <th>votes</th>\n",
       "      <th>viewership_mil</th>\n",
       "      <th>duration</th>\n",
       "      <th>release_date</th>\n",
       "      <th>guest_stars</th>\n",
       "      <th>director</th>\n",
       "      <th>writers</th>\n",
       "      <th>has_guests</th>\n",
       "      <th>scaled_ratings</th>\n",
       "    </tr>\n",
       "  </thead>\n",
       "  <tbody>\n",
       "    <tr>\n",
       "      <th>0</th>\n",
       "      <td>0</td>\n",
       "      <td>1</td>\n",
       "      <td>Pilot</td>\n",
       "      <td>The premiere episode introduces the boss and s...</td>\n",
       "      <td>7.5</td>\n",
       "      <td>4936</td>\n",
       "      <td>11.2</td>\n",
       "      <td>23</td>\n",
       "      <td>2005-03-24</td>\n",
       "      <td>NaN</td>\n",
       "      <td>Ken Kwapis</td>\n",
       "      <td>Ricky Gervais |Stephen Merchant and Greg Daniels</td>\n",
       "      <td>False</td>\n",
       "      <td>0.28125</td>\n",
       "    </tr>\n",
       "    <tr>\n",
       "      <th>1</th>\n",
       "      <td>1</td>\n",
       "      <td>1</td>\n",
       "      <td>Diversity Day</td>\n",
       "      <td>Michael's off color remark puts a sensitivity ...</td>\n",
       "      <td>8.3</td>\n",
       "      <td>4801</td>\n",
       "      <td>6.0</td>\n",
       "      <td>23</td>\n",
       "      <td>2005-03-29</td>\n",
       "      <td>NaN</td>\n",
       "      <td>Ken Kwapis</td>\n",
       "      <td>B. J. Novak</td>\n",
       "      <td>False</td>\n",
       "      <td>0.53125</td>\n",
       "    </tr>\n",
       "    <tr>\n",
       "      <th>2</th>\n",
       "      <td>2</td>\n",
       "      <td>1</td>\n",
       "      <td>Health Care</td>\n",
       "      <td>Michael leaves Dwight in charge of picking the...</td>\n",
       "      <td>7.8</td>\n",
       "      <td>4024</td>\n",
       "      <td>5.8</td>\n",
       "      <td>22</td>\n",
       "      <td>2005-04-05</td>\n",
       "      <td>NaN</td>\n",
       "      <td>Ken Whittingham</td>\n",
       "      <td>Paul Lieberstein</td>\n",
       "      <td>False</td>\n",
       "      <td>0.37500</td>\n",
       "    </tr>\n",
       "    <tr>\n",
       "      <th>3</th>\n",
       "      <td>3</td>\n",
       "      <td>1</td>\n",
       "      <td>The Alliance</td>\n",
       "      <td>Just for a laugh, Jim agrees to an alliance wi...</td>\n",
       "      <td>8.1</td>\n",
       "      <td>3915</td>\n",
       "      <td>5.4</td>\n",
       "      <td>23</td>\n",
       "      <td>2005-04-12</td>\n",
       "      <td>NaN</td>\n",
       "      <td>Bryan Gordon</td>\n",
       "      <td>Michael Schur</td>\n",
       "      <td>False</td>\n",
       "      <td>0.46875</td>\n",
       "    </tr>\n",
       "    <tr>\n",
       "      <th>4</th>\n",
       "      <td>4</td>\n",
       "      <td>1</td>\n",
       "      <td>Basketball</td>\n",
       "      <td>Michael and his staff challenge the warehouse ...</td>\n",
       "      <td>8.4</td>\n",
       "      <td>4294</td>\n",
       "      <td>5.0</td>\n",
       "      <td>23</td>\n",
       "      <td>2005-04-19</td>\n",
       "      <td>NaN</td>\n",
       "      <td>Greg Daniels</td>\n",
       "      <td>Greg Daniels</td>\n",
       "      <td>False</td>\n",
       "      <td>0.56250</td>\n",
       "    </tr>\n",
       "  </tbody>\n",
       "</table>\n",
       "</div>"
      ],
      "text/plain": [
       "   episode_number  season  episode_title  \\\n",
       "0               0       1          Pilot   \n",
       "1               1       1  Diversity Day   \n",
       "2               2       1    Health Care   \n",
       "3               3       1   The Alliance   \n",
       "4               4       1     Basketball   \n",
       "\n",
       "                                         description  ratings  votes  \\\n",
       "0  The premiere episode introduces the boss and s...      7.5   4936   \n",
       "1  Michael's off color remark puts a sensitivity ...      8.3   4801   \n",
       "2  Michael leaves Dwight in charge of picking the...      7.8   4024   \n",
       "3  Just for a laugh, Jim agrees to an alliance wi...      8.1   3915   \n",
       "4  Michael and his staff challenge the warehouse ...      8.4   4294   \n",
       "\n",
       "   viewership_mil  duration release_date guest_stars         director  \\\n",
       "0            11.2        23   2005-03-24         NaN       Ken Kwapis   \n",
       "1             6.0        23   2005-03-29         NaN       Ken Kwapis   \n",
       "2             5.8        22   2005-04-05         NaN  Ken Whittingham   \n",
       "3             5.4        23   2005-04-12         NaN     Bryan Gordon   \n",
       "4             5.0        23   2005-04-19         NaN     Greg Daniels   \n",
       "\n",
       "                                            writers  has_guests  \\\n",
       "0  Ricky Gervais |Stephen Merchant and Greg Daniels       False   \n",
       "1                                       B. J. Novak       False   \n",
       "2                                  Paul Lieberstein       False   \n",
       "3                                     Michael Schur       False   \n",
       "4                                      Greg Daniels       False   \n",
       "\n",
       "   scaled_ratings  \n",
       "0         0.28125  \n",
       "1         0.53125  \n",
       "2         0.37500  \n",
       "3         0.46875  \n",
       "4         0.56250  "
      ]
     },
     "execution_count": 2,
     "metadata": {},
     "output_type": "execute_result"
    }
   ],
   "source": [
    "# Read the dataset into a pandas dataframe and have a look at the first 5 rows\n",
    "\n",
    "df_office = pd.read_csv(\"datasets/office_episodes.csv\")\n",
    "\n",
    "df_office.head(5)"
   ]
  },
  {
   "cell_type": "code",
   "execution_count": 3,
   "metadata": {
    "dc": {
     "key": "4"
    }
   },
   "outputs": [
    {
     "name": "stdout",
     "output_type": "stream",
     "text": [
      "<class 'pandas.core.frame.DataFrame'>\n",
      "RangeIndex: 188 entries, 0 to 187\n",
      "Data columns (total 14 columns):\n",
      " #   Column          Non-Null Count  Dtype  \n",
      "---  ------          --------------  -----  \n",
      " 0   episode_number  188 non-null    int64  \n",
      " 1   season          188 non-null    int64  \n",
      " 2   episode_title   188 non-null    object \n",
      " 3   description     188 non-null    object \n",
      " 4   ratings         188 non-null    float64\n",
      " 5   votes           188 non-null    int64  \n",
      " 6   viewership_mil  188 non-null    float64\n",
      " 7   duration        188 non-null    int64  \n",
      " 8   release_date    188 non-null    object \n",
      " 9   guest_stars     29 non-null     object \n",
      " 10  director        188 non-null    object \n",
      " 11  writers         188 non-null    object \n",
      " 12  has_guests      188 non-null    bool   \n",
      " 13  scaled_ratings  188 non-null    float64\n",
      "dtypes: bool(1), float64(3), int64(4), object(6)\n",
      "memory usage: 19.4+ KB\n"
     ]
    }
   ],
   "source": [
    "df_office.info()"
   ]
  },
  {
   "cell_type": "code",
   "execution_count": 4,
   "metadata": {
    "dc": {
     "key": "4"
    }
   },
   "outputs": [
    {
     "name": "stdout",
     "output_type": "stream",
     "text": [
      "     episode_number\n",
      "0                 0\n",
      "1                 1\n",
      "2                 2\n",
      "3                 3\n",
      "4                 4\n",
      "..              ...\n",
      "183             183\n",
      "184             184\n",
      "185             185\n",
      "186             186\n",
      "187             187\n",
      "\n",
      "[188 rows x 1 columns]\n"
     ]
    }
   ],
   "source": [
    "# Each episode's episode number\n",
    "\n",
    "x = df_office[['episode_number']]\n",
    "\n",
    "print(x)"
   ]
  },
  {
   "cell_type": "code",
   "execution_count": 5,
   "metadata": {
    "dc": {
     "key": "4"
    },
    "scrolled": true
   },
   "outputs": [
    {
     "name": "stdout",
     "output_type": "stream",
     "text": [
      "     viewership_mil\n",
      "0             11.20\n",
      "1              6.00\n",
      "2              5.80\n",
      "3              5.40\n",
      "4              5.00\n",
      "..              ...\n",
      "183            3.83\n",
      "184            3.25\n",
      "185            3.51\n",
      "186            4.56\n",
      "187            5.69\n",
      "\n",
      "[188 rows x 1 columns]\n"
     ]
    }
   ],
   "source": [
    "# Each episode's viewerwhip\n",
    "\n",
    "y = df_office[['viewership_mil']]\n",
    "\n",
    "print(y)"
   ]
  },
  {
   "cell_type": "code",
   "execution_count": 6,
   "metadata": {
    "dc": {
     "key": "4"
    }
   },
   "outputs": [
    {
     "data": {
      "text/plain": [
       "<matplotlib.collections.PathCollection at 0x7fcfec48c550>"
      ]
     },
     "execution_count": 6,
     "metadata": {},
     "output_type": "execute_result"
    },
    {
     "data": {
      "image/png": "[encoded data removed]",
      "text/plain": [
       "<Figure size 792x504 with 1 Axes>"
      ]
     },
     "metadata": {
      "needs_background": "light"
     },
     "output_type": "display_data"
    }
   ],
   "source": [
    "# Plot the row\n",
    "\n",
    "plt.scatter(x,\n",
    "            y,\n",
    "           )"
   ]
  },
  {
   "cell_type": "code",
   "execution_count": 7,
   "metadata": {
    "dc": {
     "key": "4"
    }
   },
   "outputs": [
    {
     "data": {
      "text/plain": [
       "['orange',\n",
       " 'lightgreen',\n",
       " 'orange',\n",
       " 'orange',\n",
       " 'lightgreen',\n",
       " 'orange',\n",
       " 'lightgreen',\n",
       " 'orange',\n",
       " 'lightgreen',\n",
       " 'lightgreen',\n",
       " 'orange',\n",
       " 'orange',\n",
       " 'lightgreen',\n",
       " 'orange',\n",
       " 'lightgreen',\n",
       " 'lightgreen',\n",
       " 'lightgreen',\n",
       " 'darkgreen',\n",
       " 'lightgreen',\n",
       " 'orange',\n",
       " 'orange',\n",
       " 'lightgreen',\n",
       " 'lightgreen',\n",
       " 'lightgreen',\n",
       " 'orange',\n",
       " 'lightgreen',\n",
       " 'lightgreen',\n",
       " 'darkgreen',\n",
       " 'darkgreen',\n",
       " 'orange',\n",
       " 'lightgreen',\n",
       " 'orange',\n",
       " 'orange',\n",
       " 'orange',\n",
       " 'lightgreen',\n",
       " 'lightgreen',\n",
       " 'lightgreen',\n",
       " 'lightgreen',\n",
       " 'lightgreen',\n",
       " 'lightgreen',\n",
       " 'lightgreen',\n",
       " 'orange',\n",
       " 'orange',\n",
       " 'lightgreen',\n",
       " 'lightgreen',\n",
       " 'darkgreen',\n",
       " 'lightgreen',\n",
       " 'lightgreen',\n",
       " 'lightgreen',\n",
       " 'darkgreen',\n",
       " 'darkgreen',\n",
       " 'lightgreen',\n",
       " 'lightgreen',\n",
       " 'lightgreen',\n",
       " 'lightgreen',\n",
       " 'lightgreen',\n",
       " 'lightgreen',\n",
       " 'orange',\n",
       " 'lightgreen',\n",
       " 'darkgreen',\n",
       " 'orange',\n",
       " 'lightgreen',\n",
       " 'lightgreen',\n",
       " 'orange',\n",
       " 'darkgreen',\n",
       " 'lightgreen',\n",
       " 'lightgreen',\n",
       " 'orange',\n",
       " 'orange',\n",
       " 'orange',\n",
       " 'lightgreen',\n",
       " 'orange',\n",
       " 'lightgreen',\n",
       " 'lightgreen',\n",
       " 'lightgreen',\n",
       " 'lightgreen',\n",
       " 'orange',\n",
       " 'darkgreen',\n",
       " 'orange',\n",
       " 'orange',\n",
       " 'orange',\n",
       " 'lightgreen',\n",
       " 'lightgreen',\n",
       " 'lightgreen',\n",
       " 'lightgreen',\n",
       " 'lightgreen',\n",
       " 'lightgreen',\n",
       " 'darkgreen',\n",
       " 'lightgreen',\n",
       " 'lightgreen',\n",
       " 'darkgreen',\n",
       " 'lightgreen',\n",
       " 'orange',\n",
       " 'orange',\n",
       " 'darkgreen',\n",
       " 'darkgreen',\n",
       " 'orange',\n",
       " 'lightgreen',\n",
       " 'orange',\n",
       " 'orange',\n",
       " 'lightgreen',\n",
       " 'orange',\n",
       " 'lightgreen',\n",
       " 'lightgreen',\n",
       " 'red',\n",
       " 'orange',\n",
       " 'orange',\n",
       " 'lightgreen',\n",
       " 'lightgreen',\n",
       " 'orange',\n",
       " 'orange',\n",
       " 'lightgreen',\n",
       " 'orange',\n",
       " 'orange',\n",
       " 'orange',\n",
       " 'orange',\n",
       " 'orange',\n",
       " 'lightgreen',\n",
       " 'orange',\n",
       " 'orange',\n",
       " 'orange',\n",
       " 'orange',\n",
       " 'orange',\n",
       " 'orange',\n",
       " 'orange',\n",
       " 'orange',\n",
       " 'orange',\n",
       " 'darkgreen',\n",
       " 'lightgreen',\n",
       " 'orange',\n",
       " 'lightgreen',\n",
       " 'lightgreen',\n",
       " 'darkgreen',\n",
       " 'orange',\n",
       " 'darkgreen',\n",
       " 'orange',\n",
       " 'darkgreen',\n",
       " 'darkgreen',\n",
       " 'orange',\n",
       " 'lightgreen',\n",
       " 'lightgreen',\n",
       " 'orange',\n",
       " 'orange',\n",
       " 'red',\n",
       " 'orange',\n",
       " 'orange',\n",
       " 'orange',\n",
       " 'orange',\n",
       " 'red',\n",
       " 'orange',\n",
       " 'orange',\n",
       " 'orange',\n",
       " 'orange',\n",
       " 'orange',\n",
       " 'orange',\n",
       " 'orange',\n",
       " 'orange',\n",
       " 'orange',\n",
       " 'orange',\n",
       " 'red',\n",
       " 'red',\n",
       " 'red',\n",
       " 'red',\n",
       " 'orange',\n",
       " 'orange',\n",
       " 'orange',\n",
       " 'red',\n",
       " 'orange',\n",
       " 'orange',\n",
       " 'red',\n",
       " 'orange',\n",
       " 'orange',\n",
       " 'orange',\n",
       " 'lightgreen',\n",
       " 'orange',\n",
       " 'orange',\n",
       " 'orange',\n",
       " 'orange',\n",
       " 'orange',\n",
       " 'red',\n",
       " 'orange',\n",
       " 'orange',\n",
       " 'orange',\n",
       " 'orange',\n",
       " 'orange',\n",
       " 'darkgreen',\n",
       " 'darkgreen',\n",
       " 'darkgreen']"
      ]
     },
     "execution_count": 7,
     "metadata": {},
     "output_type": "execute_result"
    }
   ],
   "source": [
    "# Create an empty list for the s argument in scatter plot function\n",
    "\n",
    "cols = []\n",
    "\n",
    "for ind, row in df_office.iterrows():\n",
    "   \n",
    "    if row['scaled_ratings'] < 0.25:\n",
    "        cols.append(\"red\")\n",
    "    \n",
    "    elif row['scaled_ratings'] < 0.50:\n",
    "        cols.append(\"orange\")\n",
    "    \n",
    "    elif row['scaled_ratings'] < 0.75:\n",
    "        cols.append(\"lightgreen\")\n",
    "    \n",
    "    else:\n",
    "        cols.append(\"darkgreen\")\n",
    "    \n",
    "cols"
   ]
  },
  {
   "cell_type": "code",
   "execution_count": 8,
   "metadata": {
    "dc": {
     "key": "4"
    }
   },
   "outputs": [
    {
     "data": {
      "text/plain": [
       "<matplotlib.collections.PathCollection at 0x7fcfeca56b50>"
      ]
     },
     "execution_count": 8,
     "metadata": {},
     "output_type": "execute_result"
    },
    {
     "data": {
      "image/png": "[encoded data removed]",
      "text/plain": [
       "<Figure size 792x504 with 1 Axes>"
      ]
     },
     "metadata": {
      "needs_background": "light"
     },
     "output_type": "display_data"
    }
   ],
   "source": [
    "# Plot the row with c parameter\n",
    "\n",
    "plt.scatter(x,\n",
    "            y,\n",
    "            c = cols\n",
    "           )"
   ]
  },
  {
   "cell_type": "code",
   "execution_count": 9,
   "metadata": {
    "dc": {
     "key": "4"
    }
   },
   "outputs": [
    {
     "data": {
      "text/plain": [
       "[25,\n",
       " 25,\n",
       " 25,\n",
       " 25,\n",
       " 25,\n",
       " 250,\n",
       " 25,\n",
       " 25,\n",
       " 250,\n",
       " 250,\n",
       " 25,\n",
       " 25,\n",
       " 250,\n",
       " 25,\n",
       " 250,\n",
       " 25,\n",
       " 250,\n",
       " 25,\n",
       " 25,\n",
       " 25,\n",
       " 25,\n",
       " 250,\n",
       " 25,\n",
       " 25,\n",
       " 25,\n",
       " 25,\n",
       " 25,\n",
       " 25,\n",
       " 25,\n",
       " 250,\n",
       " 25,\n",
       " 25,\n",
       " 25,\n",
       " 25,\n",
       " 25,\n",
       " 25,\n",
       " 25,\n",
       " 25,\n",
       " 25,\n",
       " 25,\n",
       " 25,\n",
       " 25,\n",
       " 25,\n",
       " 25,\n",
       " 25,\n",
       " 25,\n",
       " 25,\n",
       " 25,\n",
       " 25,\n",
       " 25,\n",
       " 25,\n",
       " 25,\n",
       " 25,\n",
       " 250,\n",
       " 25,\n",
       " 25,\n",
       " 25,\n",
       " 25,\n",
       " 25,\n",
       " 25,\n",
       " 25,\n",
       " 25,\n",
       " 25,\n",
       " 25,\n",
       " 25,\n",
       " 25,\n",
       " 250,\n",
       " 25,\n",
       " 25,\n",
       " 25,\n",
       " 25,\n",
       " 25,\n",
       " 25,\n",
       " 25,\n",
       " 25,\n",
       " 25,\n",
       " 25,\n",
       " 250,\n",
       " 25,\n",
       " 25,\n",
       " 25,\n",
       " 25,\n",
       " 250,\n",
       " 25,\n",
       " 25,\n",
       " 25,\n",
       " 25,\n",
       " 25,\n",
       " 25,\n",
       " 25,\n",
       " 25,\n",
       " 25,\n",
       " 25,\n",
       " 25,\n",
       " 25,\n",
       " 25,\n",
       " 250,\n",
       " 25,\n",
       " 25,\n",
       " 25,\n",
       " 25,\n",
       " 25,\n",
       " 25,\n",
       " 25,\n",
       " 25,\n",
       " 250,\n",
       " 25,\n",
       " 25,\n",
       " 250,\n",
       " 25,\n",
       " 25,\n",
       " 25,\n",
       " 25,\n",
       " 25,\n",
       " 25,\n",
       " 25,\n",
       " 25,\n",
       " 250,\n",
       " 25,\n",
       " 25,\n",
       " 25,\n",
       " 250,\n",
       " 25,\n",
       " 25,\n",
       " 25,\n",
       " 25,\n",
       " 25,\n",
       " 25,\n",
       " 25,\n",
       " 250,\n",
       " 250,\n",
       " 25,\n",
       " 25,\n",
       " 25,\n",
       " 25,\n",
       " 250,\n",
       " 25,\n",
       " 25,\n",
       " 25,\n",
       " 25,\n",
       " 25,\n",
       " 25,\n",
       " 25,\n",
       " 25,\n",
       " 250,\n",
       " 25,\n",
       " 25,\n",
       " 25,\n",
       " 25,\n",
       " 250,\n",
       " 25,\n",
       " 25,\n",
       " 25,\n",
       " 25,\n",
       " 25,\n",
       " 25,\n",
       " 25,\n",
       " 25,\n",
       " 25,\n",
       " 25,\n",
       " 25,\n",
       " 25,\n",
       " 25,\n",
       " 250,\n",
       " 25,\n",
       " 25,\n",
       " 25,\n",
       " 25,\n",
       " 25,\n",
       " 250,\n",
       " 250,\n",
       " 25,\n",
       " 25,\n",
       " 25,\n",
       " 250,\n",
       " 25,\n",
       " 25,\n",
       " 25,\n",
       " 25,\n",
       " 25,\n",
       " 25,\n",
       " 25,\n",
       " 250,\n",
       " 25,\n",
       " 25,\n",
       " 250,\n",
       " 25,\n",
       " 250]"
      ]
     },
     "execution_count": 9,
     "metadata": {},
     "output_type": "execute_result"
    }
   ],
   "source": [
    "# Create an empty list for the s argument in scatter plot function\n",
    "\n",
    "size = []\n",
    "\n",
    "for ind, row in df_office.iterrows():\n",
    "   \n",
    "    if row['has_guests'] == True:\n",
    "        size.append(250)\n",
    "    \n",
    "    else:\n",
    "        size.append(25)\n",
    "    \n",
    "size"
   ]
  },
  {
   "cell_type": "code",
   "execution_count": 10,
   "metadata": {
    "dc": {
     "key": "4"
    }
   },
   "outputs": [
    {
     "data": {
      "text/plain": [
       "<matplotlib.collections.PathCollection at 0x7fcfecac5340>"
      ]
     },
     "execution_count": 10,
     "metadata": {},
     "output_type": "execute_result"
    },
    {
     "data": {
      "image/png": "[encoded data removed]",
      "text/plain": [
       "<Figure size 792x504 with 1 Axes>"
      ]
     },
     "metadata": {
      "needs_background": "light"
     },
     "output_type": "display_data"
    }
   ],
   "source": [
    "# Plot the row with c and s parameters\n",
    "\n",
    "plt.scatter(x,\n",
    "            y,\n",
    "            c = cols,\n",
    "            s = size\n",
    "           )"
   ]
  },
  {
   "cell_type": "code",
   "execution_count": 11,
   "metadata": {
    "dc": {
     "key": "4"
    }
   },
   "outputs": [
    {
     "data": {
      "image/png": "[encoded data removed]",
      "text/plain": [
       "<Figure size 792x504 with 1 Axes>"
      ]
     },
     "metadata": {
      "needs_background": "light"
     },
     "output_type": "display_data"
    }
   ],
   "source": [
    "# Initialize a matplotlib object for tert \n",
    "\n",
    "fig = plt.figure()\n",
    "\n",
    "# Plot the row with c and s parameters\n",
    "\n",
    "plt.scatter(x,\n",
    "            y,\n",
    "            c = cols,\n",
    "            s = size\n",
    "           )\n",
    "\n",
    "# Add a title and the axis names to the plot\n",
    "\n",
    "plt.title(\"Popularity, Quality, and Guest Appearances on the Office\")\n",
    "plt.xlabel(\"Episode Number\")\n",
    "plt.ylabel(\"Viewership (Millions)\")\n",
    "\n",
    "plt.show()"
   ]
  },
  {
   "cell_type": "code",
   "execution_count": 12,
   "metadata": {
    "dc": {
     "key": "4"
    },
    "scrolled": true
   },
   "outputs": [
    {
     "data": {
      "text/html": [
       "<div>\n",
       "<style scoped>\n",
       "    .dataframe tbody tr th:only-of-type {\n",
       "        vertical-align: middle;\n",
       "    }\n",
       "\n",
       "    .dataframe tbody tr th {\n",
       "        vertical-align: top;\n",
       "    }\n",
       "\n",
       "    .dataframe thead th {\n",
       "        text-align: right;\n",
       "    }\n",
       "</style>\n",
       "<table border=\"1\" class=\"dataframe\">\n",
       "  <thead>\n",
       "    <tr style=\"text-align: right;\">\n",
       "      <th></th>\n",
       "      <th>episode_number</th>\n",
       "      <th>season</th>\n",
       "      <th>ratings</th>\n",
       "      <th>votes</th>\n",
       "      <th>viewership_mil</th>\n",
       "      <th>duration</th>\n",
       "      <th>scaled_ratings</th>\n",
       "    </tr>\n",
       "  </thead>\n",
       "  <tbody>\n",
       "    <tr>\n",
       "      <th>count</th>\n",
       "      <td>188.000000</td>\n",
       "      <td>188.000000</td>\n",
       "      <td>188.000000</td>\n",
       "      <td>188.000000</td>\n",
       "      <td>188.000000</td>\n",
       "      <td>188.000000</td>\n",
       "      <td>188.000000</td>\n",
       "    </tr>\n",
       "    <tr>\n",
       "      <th>mean</th>\n",
       "      <td>93.500000</td>\n",
       "      <td>5.468085</td>\n",
       "      <td>8.237234</td>\n",
       "      <td>2838.228723</td>\n",
       "      <td>7.246330</td>\n",
       "      <td>27.053191</td>\n",
       "      <td>0.511636</td>\n",
       "    </tr>\n",
       "    <tr>\n",
       "      <th>std</th>\n",
       "      <td>54.415071</td>\n",
       "      <td>2.386245</td>\n",
       "      <td>0.589930</td>\n",
       "      <td>1063.165290</td>\n",
       "      <td>2.066012</td>\n",
       "      <td>6.937254</td>\n",
       "      <td>0.184353</td>\n",
       "    </tr>\n",
       "    <tr>\n",
       "      <th>min</th>\n",
       "      <td>0.000000</td>\n",
       "      <td>1.000000</td>\n",
       "      <td>6.600000</td>\n",
       "      <td>1832.000000</td>\n",
       "      <td>3.250000</td>\n",
       "      <td>19.000000</td>\n",
       "      <td>0.000000</td>\n",
       "    </tr>\n",
       "    <tr>\n",
       "      <th>25%</th>\n",
       "      <td>46.750000</td>\n",
       "      <td>3.000000</td>\n",
       "      <td>7.800000</td>\n",
       "      <td>2187.750000</td>\n",
       "      <td>5.990000</td>\n",
       "      <td>22.000000</td>\n",
       "      <td>0.375000</td>\n",
       "    </tr>\n",
       "    <tr>\n",
       "      <th>50%</th>\n",
       "      <td>93.500000</td>\n",
       "      <td>6.000000</td>\n",
       "      <td>8.200000</td>\n",
       "      <td>2614.000000</td>\n",
       "      <td>7.535000</td>\n",
       "      <td>23.000000</td>\n",
       "      <td>0.500000</td>\n",
       "    </tr>\n",
       "    <tr>\n",
       "      <th>75%</th>\n",
       "      <td>140.250000</td>\n",
       "      <td>7.250000</td>\n",
       "      <td>8.600000</td>\n",
       "      <td>3144.250000</td>\n",
       "      <td>8.425000</td>\n",
       "      <td>30.000000</td>\n",
       "      <td>0.625000</td>\n",
       "    </tr>\n",
       "    <tr>\n",
       "      <th>max</th>\n",
       "      <td>187.000000</td>\n",
       "      <td>9.000000</td>\n",
       "      <td>9.800000</td>\n",
       "      <td>10515.000000</td>\n",
       "      <td>22.910000</td>\n",
       "      <td>60.000000</td>\n",
       "      <td>1.000000</td>\n",
       "    </tr>\n",
       "  </tbody>\n",
       "</table>\n",
       "</div>"
      ],
      "text/plain": [
       "       episode_number      season     ratings         votes  viewership_mil  \\\n",
       "count      188.000000  188.000000  188.000000    188.000000      188.000000   \n",
       "mean        93.500000    5.468085    8.237234   2838.228723        7.246330   \n",
       "std         54.415071    2.386245    0.589930   1063.165290        2.066012   \n",
       "min          0.000000    1.000000    6.600000   1832.000000        3.250000   \n",
       "25%         46.750000    3.000000    7.800000   2187.750000        5.990000   \n",
       "50%         93.500000    6.000000    8.200000   2614.000000        7.535000   \n",
       "75%        140.250000    7.250000    8.600000   3144.250000        8.425000   \n",
       "max        187.000000    9.000000    9.800000  10515.000000       22.910000   \n",
       "\n",
       "         duration  scaled_ratings  \n",
       "count  188.000000      188.000000  \n",
       "mean    27.053191        0.511636  \n",
       "std      6.937254        0.184353  \n",
       "min     19.000000        0.000000  \n",
       "25%     22.000000        0.375000  \n",
       "50%     23.000000        0.500000  \n",
       "75%     30.000000        0.625000  \n",
       "max     60.000000        1.000000  "
      ]
     },
     "execution_count": 12,
     "metadata": {},
     "output_type": "execute_result"
    }
   ],
   "source": [
    "df_office.describe()"
   ]
  },
  {
   "cell_type": "code",
   "execution_count": 13,
   "metadata": {
    "dc": {
     "key": "4"
    },
    "scrolled": true
   },
   "outputs": [
    {
     "data": {
      "text/html": [
       "<div>\n",
       "<style scoped>\n",
       "    .dataframe tbody tr th:only-of-type {\n",
       "        vertical-align: middle;\n",
       "    }\n",
       "\n",
       "    .dataframe tbody tr th {\n",
       "        vertical-align: top;\n",
       "    }\n",
       "\n",
       "    .dataframe thead th {\n",
       "        text-align: right;\n",
       "    }\n",
       "</style>\n",
       "<table border=\"1\" class=\"dataframe\">\n",
       "  <thead>\n",
       "    <tr style=\"text-align: right;\">\n",
       "      <th></th>\n",
       "      <th>episode_number</th>\n",
       "      <th>season</th>\n",
       "      <th>episode_title</th>\n",
       "      <th>description</th>\n",
       "      <th>ratings</th>\n",
       "      <th>votes</th>\n",
       "      <th>viewership_mil</th>\n",
       "      <th>duration</th>\n",
       "      <th>release_date</th>\n",
       "      <th>guest_stars</th>\n",
       "      <th>director</th>\n",
       "      <th>writers</th>\n",
       "      <th>has_guests</th>\n",
       "      <th>scaled_ratings</th>\n",
       "    </tr>\n",
       "  </thead>\n",
       "  <tbody>\n",
       "    <tr>\n",
       "      <th>77</th>\n",
       "      <td>77</td>\n",
       "      <td>5</td>\n",
       "      <td>Stress Relief</td>\n",
       "      <td>Dwight's too-realistic fire alarm gives Stanle...</td>\n",
       "      <td>9.7</td>\n",
       "      <td>8170</td>\n",
       "      <td>22.91</td>\n",
       "      <td>60</td>\n",
       "      <td>2009-02-01</td>\n",
       "      <td>Cloris Leachman, Jack Black, Jessica Alba</td>\n",
       "      <td>Jeffrey Blitz</td>\n",
       "      <td>Paul Lieberstein</td>\n",
       "      <td>True</td>\n",
       "      <td>0.96875</td>\n",
       "    </tr>\n",
       "  </tbody>\n",
       "</table>\n",
       "</div>"
      ],
      "text/plain": [
       "    episode_number  season  episode_title  \\\n",
       "77              77       5  Stress Relief   \n",
       "\n",
       "                                          description  ratings  votes  \\\n",
       "77  Dwight's too-realistic fire alarm gives Stanle...      9.7   8170   \n",
       "\n",
       "    viewership_mil  duration release_date  \\\n",
       "77           22.91        60   2009-02-01   \n",
       "\n",
       "                                  guest_stars       director  \\\n",
       "77  Cloris Leachman, Jack Black, Jessica Alba  Jeffrey Blitz   \n",
       "\n",
       "             writers  has_guests  scaled_ratings  \n",
       "77  Paul Lieberstein        True         0.96875  "
      ]
     },
     "execution_count": 13,
     "metadata": {},
     "output_type": "execute_result"
    }
   ],
   "source": [
    "# Subset the dataframe for the most viewed episode\n",
    "\n",
    "df_office[df_office[\"viewership_mil\"] > 20]"
   ]
  },
  {
   "cell_type": "code",
   "execution_count": 14,
   "metadata": {
    "dc": {
     "key": "4"
    }
   },
   "outputs": [
    {
     "name": "stdout",
     "output_type": "stream",
     "text": [
      "Jessica Alba\n"
     ]
    }
   ],
   "source": [
    "# Assign the guest star in the most watched episode to the top_star variable\n",
    "\n",
    "top_star =\"Jessica Alba\"\n",
    "\n",
    "print(top_star)"
   ]
  }
 ],
 "metadata": {
  "kernelspec": {
   "display_name": "Python 3",
   "language": "python",
   "name": "python3"
  },
  "language_info": {
   "codemirror_mode": {
    "name": "ipython",
    "version": 3
   },
   "file_extension": ".py",
   "mimetype": "text/x-python",
   "name": "python",
   "nbconvert_exporter": "python",
   "pygments_lexer": "ipython3",
   "version": "3.8.5"
  }
 },
 "nbformat": 4,
 "nbformat_minor": 4
}
